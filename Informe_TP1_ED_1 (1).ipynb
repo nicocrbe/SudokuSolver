{
 "cells": [
  {
   "cell_type": "markdown",
   "metadata": {},
   "source": [
    "Informe - Trabajo Práctico N°1 - Estructuras de Datos - 2019\n",
    "\n",
    "El proyecto entregado consiste de la implementación de un software encargado de resolver sudokus, el mismo esta dividido en dos partes, la primera resuelve tableros de tamaño 9x9, parcialmente resueltos, mientras que la segunda resuelve tableros de tamaño NxN, desde cero.\n",
    "\n",
    "Integrantes : \n",
    "Nicolás Cristian Bellesi ,\n",
    "Axel Nicolas Quintana"
   ]
  },
  {
   "cell_type": "markdown",
   "metadata": {},
   "source": [
    "Ejecucion del tp :\n",
    "Para la primera parte del solver se debe correr el menu.py y para la segunda parte el solverParte2.py\n",
    "\n",
    "\n",
    "Primera parte:\n",
    "    \n",
    "Consta de 4 clases, las mismas se detallan a continuacion:\n",
    "\n",
    "- leerYEscribirArchivo: incluye los metodos que leen el archivo .csv de entrada y escriben el archivo resuelto de salida con la misma extension.\n",
    "\n",
    "- menu: se encarga de la ejecucion del programa, presenta un menu con dos opciones: iniciar una nueva ejecucion, o recuperar una ejecucion guardada:\n",
    "\n",
    "    -Una nueva ejecucion pedirá el nombre del archivo de entrada y puede interrumpirse en cualquier momento presionando          CTRL+C. Al hacerlo, pedirá un nombre para guardar la ejecucion en un pickle (se guarda la lista de tableros en el          estado actual) para que sea posible retomarla en otro momento. \n",
    "    \n",
    "    -Si se desea recuperar una ejecución, el sistema pedirá el nombre de una ejecución guardada. \n",
    "    \n",
    "    -Tanto si se termina la ejecución como si se interrumpe, el resultado parcial o total será escrito en el archivo .csv       con el nombre \"salida.csv\".\n",
    "\n",
    "- tablero: lee el archivo .csv usando los métodos de la clase \"leerYEscribirArchivo\" y adapta el tablero para ser utilizado por el solver (pasa todos los datos a enteros y los acomoda en listas)\n",
    "\n",
    "- sudokuSolver: la clase más importante del programa, encargada de resolver los sudokus utilizando el algoritmo recursivo de backtracking (fuerza bruta), el cual va probando todas las posibilidades para cada casillero, y retrocediendo recursivamente si las opciones elegidas no son las correctas.\n",
    "\n",
    "\n",
    "Además, se incluyen las excepciones correspondientes para manejar las situaciones anómalas, como nombres mal ingresados, entradas incorrectas de archivos, etc. y tests para probar las funciones mas importantes del programa."
   ]
  },
  {
   "cell_type": "code",
   "execution_count": null,
   "metadata": {},
   "outputs": [],
   "source": [
    "#A continuacion, se muestran los métodos de la clase solver, con una descripcion de las lineas mas importantes\n",
    "\n",
    "def sudokuSolver(tab):   # recibe un tablero por parámetro\n",
    "\n",
    "    posEnCero = celdaVacia(tab)\n",
    "    if not posEnCero: # condición base para el algoritmo recursivo\n",
    "        return True\n",
    "    else:\n",
    "        fil, col = posEnCero\n",
    "\n",
    "    for i in range(1,10): \n",
    "        if validoEnTablero(tab, i, (fil, col)): # llama al método validoEnTablero con la posicion actual y un numero entre 1 y 9\n",
    "            tab[fil][col] = i\n",
    "\n",
    "            if sudokuSolver(tab): #si retorna true se termina el método, sino, pone la celda en 0 y hace backtracking\n",
    "                return True\n",
    "\n",
    "            tab[fil][col] = 0\n",
    "\n",
    "    return False\n",
    "\n",
    "\n",
    "\n",
    "def validoEnTablero(tab, num, pos): # chequea si el número es válido en la posición dada\n",
    "    # mira fila\n",
    "    for i in range(len(tab[0])):\n",
    "        if tab[pos[0]][i] == num and pos[1] != i:\n",
    "            return False\n",
    "\n",
    "    # mira columnas\n",
    "    for i in range(len(tab)):\n",
    "        if tab[i][pos[1]] == num and pos[0] != i:\n",
    "            return False\n",
    "\n",
    "    # mira la región\n",
    "    regionX = pos[1] // 3\n",
    "    regionY = pos[0] // 3\n",
    "\n",
    "    for i in range(regionY*3, regionY*3 + 3): #divide el tablero en subtableros dividiendo por 3 y comprueba dentro de ellos\n",
    "        for j in range(regionX * 3, regionX*3 + 3):\n",
    "            if tab[i][j] == num and (i, j) != pos:\n",
    "                return False\n",
    "\n",
    "    return True\n",
    "\n",
    "def celdaVacia(bo):  # método auxiliar que en caso de encontrar una poscion vacia en el tablero , la devuelve\n",
    "    for i in range(len(bo)):\n",
    "        for j in range(len(bo[0])):\n",
    "            if bo[i][j] == 0:\n",
    "                return (i, j)  # fila, columna\n",
    "\n",
    "    return None"
   ]
  },
  {
   "cell_type": "markdown",
   "metadata": {},
   "source": [
    "Segunda parte:\n",
    "\n",
    "Esta sección consiste en ingresar manualmente un tablero de tamaño NxN, con todos los casilleros vacíos, y calcular cuánto tarda el programa en calcular las primeras 10 soluciones para cada valor de N.\n",
    "Esta parte consiste de una sola clase solver, modificada para que resuelva tableros con un tamaño \"k\" general"
   ]
  },
  {
   "cell_type": "code",
   "execution_count": null,
   "metadata": {},
   "outputs": [],
   "source": [
    "#Algunos metodos de la clase\n",
    "import random\n",
    "\n",
    "def mezclarPosibilidades(k): # genera un conjunto de posibilidades distintas para cada tablero\n",
    "    possibilities = {n for n in range(1, k + 1)}\n",
    "    posibilidades = (list(possibilities))\n",
    "    random.shuffle(posibilidades) #el metodo shuffle desordena la lista\n",
    "    return posibilidades\n",
    "\n",
    "\n",
    "def valid(bo, num, pos, k): # aca puede verse más detalladamente el uso de la variable general \"K\" para el tamaño\n",
    "    raiz_k=int(math.sqrt(k))\n",
    "    # Checkea fila\n",
    "    for i in range(len(bo[0])):\n",
    "        if bo[pos[0]][i] == num and pos[1] != i:\n",
    "            return False\n",
    "\n",
    "    # Checkea columna\n",
    "    for i in range(len(bo)):\n",
    "        if bo[i][pos[1]] == num and pos[0] != i:\n",
    "            return False\n",
    "\n",
    "    # Checkea region\n",
    "    box_x = pos[1] // raiz_k #las regiones tienen tamaño = raiz(k), en el caso de tableros de 9x9 será 3, 16x16 será 4,etc\n",
    "    box_y = pos[0] // raiz_k\n",
    "\n",
    "    for i in range(box_y*raiz_k, box_y*raiz_k + raiz_k):\n",
    "        for j in range(box_x * raiz_k, box_x*raiz_k + raiz_k):\n",
    "            if bo[i][j] == num and (i,j) != pos:\n",
    "                return False\n",
    "\n",
    "    return True\n"
   ]
  },
  {
   "cell_type": "markdown",
   "metadata": {},
   "source": [
    "Complejidad del algoritmo:\n",
    "\n",
    "Estimamos que la complejidad es O(n^m) donde n es el número de posibilidades para que cada cuadrado (es decir, 9 en el clásico Sudoku) y m es el número de espacios que están en blanco.\n",
    "\n",
    "Esto puede verse al realizar backtracking a partir de un único espacio en blanco. Si sólo hay uno en blanco, entonces se tiene n posibilidades en el peor de los casos. Si hay dos espacios en blanco, entonces se debe trabajar a través de n posibilidades para la primera en blanco y n posibilidades para el segundo en blanco para cada una de las posibilidades para el primer espacio en blanco, y asi sucesivamente, llegando a tener dicha complejidad en el peor de los casos.\n",
    "\n",
    "En el caso de un sudoku vacio de tamaño n, la complejidad será O(n^n) la cual es extremadamente costosa y genera, en nuestro programa, tiempos de espera demasiado largos para resolver tableros con tamaños superiores a 16x16, con un procesador Ryzen 5 1600  y 16 gb de ram. Creemos que esto es debido a que, el costo del solver esta dado en numeros superiores a 60 cifras en el caso de 25x25, casi 100 cifras en 36x36, y mas de 3000 cifras en casos de 49x49.\n"
   ]
  },
  {
   "cell_type": "markdown",
   "metadata": {},
   "source": [
    "Tiempos para cada tablero:\n",
    "\n",
    "9x9 ====> 0.14068102836608887 seg.\n",
    "\n",
    "16x16 ====> 0.20425010681152344 seg.\n",
    "\n",
    "25x25 ====> Dejandolo varias horas, solo llenaba la mitad de un tablero y el solver seguia probando con distintos numeros haciendo backtracking. Esto fue probado en una pc con Ryzen 5 1600 y 16 GB de ram"
   ]
  },
  {
   "cell_type": "markdown",
   "metadata": {},
   "source": [
    "Conclusiones:\n",
    "    \n",
    "Llegamos a la conclusión de que el algoritmo de backtracking es muy efectivo y sencillo de implementar para resolver problemas con una cantidad de posibilidades limitada, pudiendo encontrar todas las combinaciones posibles en muy poco tiempo, pero cuando se trata de valores de n mas elevados, al ser una función exponencial, tiende al +infinito muy rápidamente, llegando a tardar muchisimo tiempo de diferencia entre dos valores de n, incluso si estos son cercanos. En este caso, se vuelve poco efectivo e inviable."
   ]
  }
 ],
 "metadata": {
  "kernelspec": {
   "display_name": "Python 3",
   "language": "python",
   "name": "python3"
  },
  "language_info": {
   "codemirror_mode": {
    "name": "ipython",
    "version": 3
   },
   "file_extension": ".py",
   "mimetype": "text/x-python",
   "name": "python",
   "nbconvert_exporter": "python",
   "pygments_lexer": "ipython3",
   "version": "3.7.3"
  }
 },
 "nbformat": 4,
 "nbformat_minor": 2
}
